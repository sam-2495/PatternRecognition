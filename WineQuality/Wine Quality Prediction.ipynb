{
 "cells": [
  {
   "cell_type": "markdown",
   "metadata": {},
   "source": [
    "# Wine Quality Prediction\n",
    "\n",
    "Implementation of a KNN classifier from scratch then using Cross Validation and Grid Search to improve the accuracy."
   ]
  },
  {
   "cell_type": "code",
   "execution_count": null,
   "metadata": {},
   "outputs": [],
   "source": [
    "import numpy as np\n",
    "import pandas as pd\n",
    "import csv\n",
    "import math\n",
    "import warnings\n",
    "\n",
    "from sklearn.model_selection import train_test_split\n",
    "from sklearn.neighbors import KNeighborsClassifier\n",
    "from sklearn.metrics import accuracy_score\n",
    "from sklearn.preprocessing import StandardScaler\n",
    "from sklearn.model_selection import cross_val_score\n",
    "from sklearn.model_selection import GridSearchCV"
   ]
  },
  {
   "cell_type": "code",
   "execution_count": 2,
   "metadata": {},
   "outputs": [],
   "source": [
    "def LoadData():\n",
    "    df = pd.read_csv('wine_quality1.csv', names=['fixed acidity','volatile acidity','citric acid','residual sugar','chlorides','free sulfur dioxide','total sulfur dioxide','density','pH','sulphates','alcohol','quality'])\n",
    "    return df"
   ]
  },
  {
   "cell_type": "code",
   "execution_count": 3,
   "metadata": {},
   "outputs": [],
   "source": [
    "def data_wrangling(df):\n",
    "    \n",
    "    df.dropna(thresh=None,axis=0,inplace=True)\n",
    "    vc = df['quality'].value_counts()\n",
    "    u  = [i not in set(vc[vc==1].index) for i in df['quality']]  #returns boolean value(true for all values having count>1)\n",
    "    df = df[u]\n",
    "    \n",
    "    return df"
   ]
  },
  {
   "cell_type": "code",
   "execution_count": 4,
   "metadata": {},
   "outputs": [],
   "source": [
    "def separate_quality_column(df):\n",
    "    \n",
    "    X = df.drop(\"quality\",axis=1)\n",
    "    Y = df[\"quality\"]\n",
    "    \n",
    "    return X,Y"
   ]
  },
  {
   "cell_type": "code",
   "execution_count": 5,
   "metadata": {},
   "outputs": [],
   "source": [
    "def split_Data(X,Y):\n",
    "    \n",
    "    Training_Set, Test_Set, Train_Set_Quality, Test_Set_Quality= train_test_split(X, Y, test_size = 0.2, random_state = 42, stratify=Y)\n",
    "    return Training_Set, Test_Set, Train_Set_Quality, Test_Set_Quality"
   ]
  },
  {
   "cell_type": "code",
   "execution_count": 6,
   "metadata": {},
   "outputs": [],
   "source": [
    "def scaler(Training_Set, Test_Set):\n",
    "    \n",
    "    sc = StandardScaler()\n",
    "    Training_Set = sc.fit_transform(Training_Set)\n",
    "    Test_Set = sc.fit_transform(Test_Set)\n",
    "    \n",
    "    return Training_Set, Test_Set"
   ]
  },
  {
   "cell_type": "code",
   "execution_count": 7,
   "metadata": {},
   "outputs": [],
   "source": [
    "def KNN(K, Training_Set, Train_Set_Quality, Test_Set, Test_Set_Quality):\n",
    "    \n",
    "    classifier = KNeighborsClassifier(n_neighbors = K, metric = 'euclidean')\n",
    "\n",
    "    classifier.fit(Training_Set, Train_Set_Quality)\n",
    "    y_predicted = classifier.predict(Test_Set)\n",
    "\n",
    "    print ('Accuracy obtained with KNN: {0} %'.format(accuracy_score(Test_Set_Quality,y_predicted) * 100))\n",
    "\n",
    "    return classifier"
   ]
  },
  {
   "cell_type": "code",
   "execution_count": 8,
   "metadata": {},
   "outputs": [],
   "source": [
    "def Cross_Validation(classifier, Training_Set, Train_Set_Quality, cv):\n",
    "    \n",
    "    cv_scores = cross_val_score(classifier, Training_Set, Train_Set_Quality, cv=5)\n",
    "    print ('Accuracy obtained after cross validation: {0} %'.format(np.mean(cv_scores) * 100))"
   ]
  },
  {
   "cell_type": "code",
   "execution_count": 9,
   "metadata": {},
   "outputs": [],
   "source": [
    "def Grid_Search_CV(K1, K2, Training_Set, Train_Set_Quality, cv):\n",
    "    \n",
    "    classifier_2 = KNeighborsClassifier()\n",
    "    param_grid = {\"n_neighbors\": np.arange(K1, K2)}\n",
    "    knn_gscv = GridSearchCV(classifier_2, param_grid, cv=5)\n",
    "    knn_gscv.fit(Training_Set, Train_Set_Quality)\n",
    "    print (\"Optimized K: \",knn_gscv.best_params_)\n",
    "    print (\"Accuracy obtained after GridSearchCV: {0} %\".format(knn_gscv.best_score_ * 100))"
   ]
  },
  {
   "cell_type": "code",
   "execution_count": 10,
   "metadata": {},
   "outputs": [
    {
     "name": "stdout",
     "output_type": "stream",
     "text": [
      "Accuracy obtained with KNN: 52.755102040816325 %\n",
      "Accuracy obtained after cross validation: 56.35520108426512 %\n",
      "Optimized K:  {'n_neighbors': 1}\n",
      "Accuracy obtained after GridSearchCV: 61.23054969114082 %\n"
     ]
    }
   ],
   "source": [
    "def main():\n",
    "    \n",
    "    df = LoadData()\n",
    "    dflength = len(df)\n",
    "    \n",
    "    df = data_wrangling(df)\n",
    "    \n",
    "    X,Y = separate_quality_column(df)\n",
    "    warnings.filterwarnings(\"ignore\")\n",
    "    \n",
    "    Training_Set, Test_Set, Train_Set_Quality, Test_Set_Quality = split_Data(X, Y)\n",
    "    Training_Set, Test_Set = scaler(Training_Set, Test_Set)\n",
    "\n",
    "    classifier = KNN(4, Training_Set, Train_Set_Quality, Test_Set, Test_Set_Quality)\n",
    "    \n",
    "    \n",
    "    cv=5\n",
    "    Cross_Validation(classifier, Training_Set, Train_Set_Quality, cv)\n",
    "    \n",
    "    K1 = 1\n",
    "    K2 = 26\n",
    "    Grid_Search_CV(K1, K2, Training_Set, Train_Set_Quality, cv)\n",
    "    \n",
    "main()"
   ]
  }
 ],
 "metadata": {
  "kernelspec": {
   "display_name": "Python 3",
   "language": "python",
   "name": "python3"
  },
  "language_info": {
   "codemirror_mode": {
    "name": "ipython",
    "version": 3
   },
   "file_extension": ".py",
   "mimetype": "text/x-python",
   "name": "python",
   "nbconvert_exporter": "python",
   "pygments_lexer": "ipython3",
   "version": "3.7.6"
  }
 },
 "nbformat": 4,
 "nbformat_minor": 4
}
